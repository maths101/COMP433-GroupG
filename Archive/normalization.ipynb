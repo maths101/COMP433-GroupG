{
 "cells": [
  {
   "cell_type": "markdown",
   "metadata": {},
   "source": [
    "<H2> Import Libraries and Set Device </H2>\n"
   ]
  },
  {
   "cell_type": "code",
   "execution_count": 1,
   "metadata": {},
   "outputs": [],
   "source": [
    "import torch\n",
    "from torchvision import transforms\n",
    "from torch.utils.data import Dataset, DataLoader\n",
    "import torchvision.models as models\n",
    "import torch.nn as nn\n",
    "from PIL import Image\n",
    "from tqdm import tqdm\n",
    "import os\n",
    "\n",
    "# Update dataset path\n",
    "dataset_path = r'D:\\Huron_Unlabeled_Data'\n",
    "\n",
    "# Set device for computation\n",
    "device = torch.device(\"cuda\" if torch.cuda.is_available() else \"cpu\")"
   ]
  },
  {
   "cell_type": "markdown",
   "metadata": {},
   "source": [
    "<h2> Unlabeled Dataset Class </h2>\n"
   ]
  },
  {
   "cell_type": "code",
   "execution_count": 2,
   "metadata": {},
   "outputs": [],
   "source": [
    "class Unlabeled_Dataset(Dataset):\n",
    "    def __init__(self, image_files, transform=None):\n",
    "        self.image_files = image_files\n",
    "        self.transform = transform\n",
    "\n",
    "    def __len__(self):\n",
    "        return len(self.image_files)\n",
    "\n",
    "    def __getitem__(self, idx):\n",
    "        img_path = self.image_files[idx]\n",
    "        try:\n",
    "            image = Image.open(img_path).convert('RGB')\n",
    "            if self.transform:\n",
    "                image = self.transform(image)\n",
    "            return image\n",
    "        except Exception as e:\n",
    "            print(f\"Error loading image {img_path}: {e}\")\n",
    "            return torch.zeros(3, 512, 512)  # Return zero tensor if loading fails\n"
   ]
  },
  {
   "cell_type": "markdown",
   "metadata": {},
   "source": [
    "<H2> Data Transformation and Loading </H2>"
   ]
  },
  {
   "cell_type": "code",
   "execution_count": 3,
   "metadata": {},
   "outputs": [],
   "source": [
    "transform = transforms.Compose([\n",
    "    transforms.Resize((224, 224)),\n",
    "    transforms.ToTensor(),  # Converts images to PyTorch tensors with pixel values in [0, 1]\n",
    "])\n",
    "\n",
    "# List all image files in the dataset\n",
    "image_extensions = ('.png',)  \n",
    "image_files = [os.path.join(root, filename)\n",
    "               for root, dirs, files in os.walk(dataset_path)\n",
    "               for filename in files\n",
    "               if filename.lower().endswith(image_extensions)]\n",
    "\n",
    "dataset = Unlabeled_Dataset(image_files, transform=transform)\n",
    "loader = DataLoader(dataset, batch_size=16, num_workers=0, pin_memory=True)"
   ]
  },
  {
   "cell_type": "markdown",
   "metadata": {},
   "source": [
    "<H2> Getting Mean and Standard Deviation for The Unlabelled Dataset </H2>\n"
   ]
  },
  {
   "cell_type": "code",
   "execution_count": 4,
   "metadata": {},
   "outputs": [
    {
     "name": "stderr",
     "output_type": "stream",
     "text": [
      "Calculating mean and std: 100%|██████████| 1022/1022 [04:18<00:00,  3.96it/s]"
     ]
    },
    {
     "name": "stdout",
     "output_type": "stream",
     "text": [
      "Calculated Mean: tensor([0.8786, 0.8474, 0.8732], device='cuda:0'), Calculated Std: tensor([0.2504, 0.2687, 0.2513], device='cuda:0')\n"
     ]
    },
    {
     "name": "stderr",
     "output_type": "stream",
     "text": [
      "\n"
     ]
    }
   ],
   "source": [
    "import torch\n",
    "from tqdm import tqdm\n",
    "\n",
    "channel_sum = torch.zeros(3).to(device)\n",
    "channel_squared_sum = torch.zeros(3).to(device)\n",
    "num_pixels = 0\n",
    "\n",
    "# Calculate mean and std with a progress bar\n",
    "for images in tqdm(loader, desc=\"Calculating mean and std\"):\n",
    "    images = images.to(device)\n",
    "\n",
    "    # Update sum and squared sum\n",
    "    channel_sum += images.sum(dim=[0, 2, 3])\n",
    "    channel_squared_sum += (images ** 2).sum(dim=[0, 2, 3])\n",
    "    num_pixels += images.size(0) * images.size(2) * images.size(3)\n",
    "\n",
    "# Calculate mean and std\n",
    "mean = channel_sum / num_pixels\n",
    "std = (channel_squared_sum / num_pixels - mean ** 2).sqrt()\n",
    "\n",
    "print(f\"Calculated Mean: {mean}, Calculated Std: {std}\")\n"
   ]
  },
  {
   "cell_type": "markdown",
   "metadata": {},
   "source": [
    "<H2> Apply Transformations to prep Data for SSL encoder </H2>"
   ]
  }
 ],
 "metadata": {
  "kernelspec": {
   "display_name": "Python 3",
   "language": "python",
   "name": "python3"
  },
  "language_info": {
   "codemirror_mode": {
    "name": "ipython",
    "version": 3
   },
   "file_extension": ".py",
   "mimetype": "text/x-python",
   "name": "python",
   "nbconvert_exporter": "python",
   "pygments_lexer": "ipython3",
   "version": "3.12.7"
  },
  "orig_nbformat": 4
 },
 "nbformat": 4,
 "nbformat_minor": 2
}
