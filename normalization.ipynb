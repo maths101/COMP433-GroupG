{
 "cells": [
  {
   "cell_type": "markdown",
   "metadata": {},
   "source": [
    "<H2> Import Libraries and Set Device </H2>\n"
   ]
  },
  {
   "cell_type": "code",
   "execution_count": 2,
   "metadata": {},
   "outputs": [],
   "source": [
    "import torch\n",
    "from torchvision import transforms\n",
    "from torch.utils.data import Dataset, DataLoader\n",
    "import torchvision.models as models\n",
    "import torch.nn as nn\n",
    "from PIL import Image\n",
    "from tqdm import tqdm\n",
    "import os\n",
    "\n",
    "# Update dataset path\n",
    "dataset_path = r'D:\\Huron_Unlabeled_Data'\n",
    "\n",
    "# Set device for computation\n",
    "device = torch.device(\"cuda\" if torch.cuda.is_available() else \"cpu\")"
   ]
  },
  {
   "cell_type": "markdown",
   "metadata": {},
   "source": [
    "<h2> Unlabeled Dataset Class </h2>\n"
   ]
  },
  {
   "cell_type": "code",
   "execution_count": 3,
   "metadata": {},
   "outputs": [],
   "source": [
    "class Unlabeled_Dataset(Dataset):\n",
    "    def __init__(self, image_files, transform=None):\n",
    "        self.image_files = image_files\n",
    "        self.transform = transform\n",
    "\n",
    "    def __len__(self):\n",
    "        return len(self.image_files)\n",
    "\n",
    "    def __getitem__(self, idx):\n",
    "        img_path = self.image_files[idx]\n",
    "        try:\n",
    "            image = Image.open(img_path).convert('RGB')\n",
    "            if self.transform:\n",
    "                image = self.transform(image)\n",
    "            return image\n",
    "        except Exception as e:\n",
    "            print(f\"Error loading image {img_path}: {e}\")\n",
    "            return torch.zeros(3, 512, 512)  # Return zero tensor if loading fails\n"
   ]
  },
  {
   "cell_type": "markdown",
   "metadata": {},
   "source": [
    "<H2> Data Transformation and Loading </H2>"
   ]
  },
  {
   "cell_type": "code",
   "execution_count": 4,
   "metadata": {},
   "outputs": [],
   "source": [
    "transform = transforms.Compose([\n",
    "    transforms.Resize((512, 512)),\n",
    "    transforms.ToTensor(),  # Converts images to PyTorch tensors with pixel values in [0, 1]\n",
    "])\n",
    "\n",
    "# List all image files in the dataset\n",
    "image_extensions = ('.png',)  \n",
    "image_files = [os.path.join(root, filename)\n",
    "               for root, dirs, files in os.walk(dataset_path)\n",
    "               for filename in files\n",
    "               if filename.lower().endswith(image_extensions)]\n",
    "\n",
    "dataset = Unlabeled_Dataset(image_files, transform=transform)\n",
    "loader = DataLoader(dataset, batch_size=16, num_workers=0, pin_memory=True)"
   ]
  },
  {
   "cell_type": "markdown",
   "metadata": {},
   "source": [
    "<H2> Getting Mean and Standard Deviation for The Unlabelled Dataset </H2>\n"
   ]
  },
  {
   "cell_type": "code",
   "execution_count": 9,
   "metadata": {},
   "outputs": [
    {
     "name": "stderr",
     "output_type": "stream",
     "text": [
      "Processing batches:   0%|          | 2/511 [00:00<01:31,  5.58it/s]"
     ]
    },
    {
     "name": "stdout",
     "output_type": "stream",
     "text": [
      "First batch shape: torch.Size([32, 3, 512, 512])\n"
     ]
    },
    {
     "name": "stderr",
     "output_type": "stream",
     "text": [
      "Processing batches: 100%|██████████| 511/511 [01:20<00:00,  6.31it/s]\n"
     ]
    },
    {
     "name": "stdout",
     "output_type": "stream",
     "text": [
      "Channel Means: tensor([0.8786, 0.8473, 0.8732])\n",
      "Channel Standard Deviations: tensor([0.2517, 0.2701, 0.2527])\n"
     ]
    }
   ],
   "source": [
    "channel_sum = torch.zeros(3).to(device)\n",
    "channel_squared_sum = torch.zeros(3).to(device)\n",
    "num_pixels = 0\n",
    "\n",
    "# Calculate mean and std\n",
    "for images in loader:\n",
    "    images = images.to(device)\n",
    "\n",
    "    # Update sum and squared sum\n",
    "    channel_sum += images.sum(dim=[0, 2, 3])\n",
    "    channel_squared_sum += (images ** 2).sum(dim=[0, 2, 3])\n",
    "    num_pixels += images.size(0) * images.size(2) * images.size(3)\n",
    "\n",
    "# Calculate mean and std\n",
    "mean = channel_sum / num_pixels\n",
    "std = (channel_squared_sum / num_pixels - mean ** 2).sqrt()\n",
    "\n",
    "print(f\"Calculated Mean: {mean}, Calculated Std: {std}\")\n"
   ]
  },
  {
   "cell_type": "markdown",
   "metadata": {},
   "source": [
    "<H2> Apply Transformations to prep Data for SSL encoder </H2>"
   ]
  },
  {
   "cell_type": "code",
   "execution_count": 8,
   "metadata": {},
   "outputs": [],
   "source": [
    "transform = transforms.Compose([\n",
    "    transforms.RandomResizedCrop(size=512, scale=(0.2, 1.0)),\n",
    "    transforms.RandomHorizontalFlip(),\n",
    "    transforms.ColorJitter(brightness=0.4, contrast=0.4, saturation=0.4, hue=0.1),\n",
    "    transforms.RandomGrayscale(p=0.2),\n",
    "    transforms.GaussianBlur(kernel_size=23, sigma=(0.1, 2.0)),\n",
    "    transforms.Resize((512, 512)),\n",
    "    transforms.ToTensor(),  # Converts images to PyTorch tensors with pixel values in [0, 1]\n",
    "    transforms.Normalize(mean=[0.8786, 0.8473, 0.8732], std=[0.2517, 0.2701, 0.2527])\n",
    "])"
   ]
  },
  {
   "cell_type": "markdown",
   "metadata": {},
   "source": [
    "<H2> SimCLR Dataset Class </H2>"
   ]
  },
  {
   "cell_type": "code",
   "execution_count": 9,
   "metadata": {},
   "outputs": [],
   "source": [
    "class SimCLR_Dataset(Dataset):\n",
    "    def __init__(self, image_files, transform=None):\n",
    "        self.image_files = image_files\n",
    "        self.transform = transform\n",
    "\n",
    "    def __len__(self):\n",
    "        return len(self.image_files)\n",
    "\n",
    "    def __getitem__(self, idx):\n",
    "        img_path = self.image_files[idx]\n",
    "        try:\n",
    "            image = Image.open(img_path).convert('RGB')\n",
    "            if self.transform:\n",
    "                image = self.transform(image)\n",
    "            return image\n",
    "        except Exception as e:\n",
    "            print(f\"Error loading image {img_path}: {e}\")\n",
    "            return torch.zeros(3, 512, 512), torch.zeros(3, 512, 512)"
   ]
  },
  {
   "cell_type": "markdown",
   "metadata": {},
   "source": [
    "<H2> SimCLR DataLoader </h2>"
   ]
  },
  {
   "cell_type": "code",
   "execution_count": 11,
   "metadata": {},
   "outputs": [],
   "source": [
    "dataset = SimCLR_Dataset(image_files, transform=transform)\n",
    "\n",
    "# Create DataLoader for SimCLR\n",
    "loader = DataLoader(dataset, batch_size=64, shuffle=True, num_workers=10, pin_memory=True)"
   ]
  },
  {
   "cell_type": "markdown",
   "metadata": {},
   "source": [
    "<H2> ResNet-34 Encoder Class </H2>"
   ]
  },
  {
   "cell_type": "code",
   "execution_count": 12,
   "metadata": {},
   "outputs": [],
   "source": [
    "class ResNet34_Encoder(nn.Module):\n",
    "    def __init__(self, feature_dim=128):\n",
    "        super(ResNet34_Encoder, self).__init__()\n",
    "\n",
    "        # Load ResNet-34 without pretrained weights\n",
    "        self.encoder = models.resnet34(weights=None)\n",
    "\n",
    "        # Remove the fully connected (FC) layer\n",
    "        self.encoder = nn.Sequential(*list(self.encoder.children())[:-1])\n",
    "\n",
    "        # Add a projection head (2-layer MLP)\n",
    "        self.projection_head = nn.Sequential(\n",
    "            nn.Linear(512, 512),\n",
    "            nn.ReLU(),\n",
    "            nn.Linear(512, feature_dim)\n",
    "        )\n",
    "\n",
    "    def forward(self, x):\n",
    "        # Forward pass through encoder\n",
    "        features = self.encoder(x)\n",
    "        features = features.view(features.size(0), -1)\n",
    "\n",
    "        # Forward pass through projection head\n",
    "        projections = self.projection_head(features)\n",
    "        return projections\n",
    "\n",
    "# Initialize the model\n",
    "feature_dim = 128\n",
    "model = ResNet34_Encoder(feature_dim=feature_dim).to(device)\n"
   ]
  },
  {
   "cell_type": "markdown",
   "metadata": {},
   "source": [
    "<H2> Initialize Model </H2>"
   ]
  },
  {
   "cell_type": "code",
   "execution_count": 13,
   "metadata": {},
   "outputs": [],
   "source": [
    "feature_dim = 128\n",
    "model = ResNet34_Encoder(feature_dim=feature_dim).to(device)\n"
   ]
  },
  {
   "cell_type": "code",
   "execution_count": 14,
   "metadata": {},
   "outputs": [],
   "source": [
    "import torch.optim as optim\n",
    "\n",
    "# Define optimizer\n",
    "optimizer = optim.Adam(model.parameters(), lr=0.001, weight_decay=1e-6)\n",
    "\n",
    "# NT-Xent Loss (Placeholder)\n",
    "def nt_xent_loss(z_i, z_j, temperature=0.5):\n",
    "    batch_size = z_i.size(0)\n",
    "    z = torch.cat([z_i, z_j], dim=0)  # Concatenate positive pairs\n",
    "    z = nn.functional.normalize(z, dim=1)  # Normalize projections\n",
    "\n",
    "    similarity_matrix = torch.matmul(z, z.T) / temperature  # Cosine similarity\n",
    "\n",
    "    # Create labels (0, 1, ..., N-1, 0, 1, ..., N-1)\n",
    "    labels = torch.arange(batch_size).repeat(2).to(device)\n",
    "\n",
    "    # Mask to remove similarity with self\n",
    "    mask = torch.eye(2 * batch_size, dtype=torch.bool).to(device)\n",
    "    similarity_matrix = similarity_matrix.masked_fill(mask, -float('inf'))\n",
    "\n",
    "    # Calculate loss\n",
    "    loss = nn.CrossEntropyLoss()(similarity_matrix, labels)\n",
    "    return loss\n"
   ]
  },
  {
   "cell_type": "code",
   "execution_count": 15,
   "metadata": {},
   "outputs": [],
   "source": [
    "# Set model to training mode\n",
    "model.train()\n",
    "\n",
    "# Number of epochs\n",
    "epochs = 100\n",
    "\n",
    "# Training loop\n",
    "for epoch in range(epochs):\n",
    "    total_loss = 0\n",
    "    for img1, img2 in loader:\n",
    "        img1, img2 = img1.to(device), img2.to(device)\n",
    "\n",
    "        # Forward pass\n",
    "        z_i = model(img1)  # Projection from first view\n",
    "        z_j = model(img2)  # Projection from second view\n",
    "\n",
    "        # Compute NT-Xent loss\n",
    "        loss = nt_xent_loss(z_i, z_j)\n",
    "\n",
    "        # Backpropagation and optimization\n",
    "        optimizer.zero_grad()\n",
    "        loss.backward()\n",
    "        optimizer.step()\n",
    "\n",
    "        total_loss += loss.item()\n",
    "\n",
    "    # Print average loss per epoch\n",
    "    avg_loss = total_loss / len(loader)\n",
    "    print(f\"Epoch [{epoch+1}/{epochs}], Loss: {avg_loss:.4f}\")\n"
   ]
  }
 ],
 "metadata": {
  "kernelspec": {
   "display_name": "Python 3",
   "language": "python",
   "name": "python3"
  },
  "language_info": {
   "codemirror_mode": {
    "name": "ipython",
    "version": 3
   },
   "file_extension": ".py",
   "mimetype": "text/x-python",
   "name": "python",
   "nbconvert_exporter": "python",
   "pygments_lexer": "ipython3",
   "version": "3.12.7"
  },
  "orig_nbformat": 4
 },
 "nbformat": 4,
 "nbformat_minor": 2
}
